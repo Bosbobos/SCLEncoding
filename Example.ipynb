{
 "cells": [
  {
   "metadata": {},
   "cell_type": "markdown",
   "source": [
    "**Пример работы программы**\n",
    "\n",
    "Для начала инициализируем наши константы"
   ],
   "id": "b0a5d058c0fa1ed8"
  },
  {
   "metadata": {
    "ExecuteTime": {
     "end_time": "2025-06-09T08:33:24.363028Z",
     "start_time": "2025-06-09T08:33:24.354377Z"
    }
   },
   "cell_type": "code",
   "source": [
    "import numpy as np\n",
    "from SCL import SCL\n",
    "from copy import deepcopy\n",
    "\n",
    "N = 16 # Количество бит в готовом векторе\n",
    "maxSize = 4 # Количество сохранённых путей\n",
    "F = [0, 1, 2, 3, 4, 5, 8, 9] # Позиции замороженных бит\n",
    "sigma = 0.3"
   ],
   "id": "e71f68bb953cbcef",
   "outputs": [],
   "execution_count": 2
  },
  {
   "metadata": {},
   "cell_type": "markdown",
   "source": "Инициализируем вектор, наложим шум (и выведем итоговые значения с нумерацией, чтобы потом было легче добавлять ошибки)",
   "id": "2f599b80878f6586"
  },
  {
   "metadata": {
    "ExecuteTime": {
     "end_time": "2025-06-09T08:33:24.526719Z",
     "start_time": "2025-06-09T08:33:24.461020Z"
    }
   },
   "cell_type": "code",
   "source": [
    "scl = SCL(N, F, maxSize)\n",
    "vector = [1]*8\n",
    "vec_with_frozen_bits = scl.prepare_input(vector)\n",
    "encoded_vec = scl.encode(vec_with_frozen_bits)\n",
    "display(f'Закодированный вектор: {encoded_vec}')\n",
    "\n",
    "np.random.seed(17)\n",
    "awgn_encoded_vec = encoded_vec + sigma * np.random.randn(N)\n",
    "print(f'Зашумлённый вектор: {awgn_encoded_vec}')\n",
    "for i in range(N):\n",
    "    print(i, awgn_encoded_vec[i], 'frozen' if i in F else 'info')"
   ],
   "id": "24508d173aea25f7",
   "outputs": [
    {
     "data": {
      "text/plain": [
       "'Закодированный вектор: [ 1  1  1 -1  1 -1  1  1  1 -1  1  1  1  1  1 -1]'"
      ]
     },
     "metadata": {},
     "output_type": "display_data"
    },
    {
     "name": "stdout",
     "output_type": "stream",
     "text": [
      "Зашумлённый вектор: [ 1.08287977  0.44361158  1.18717033 -0.65640661  1.31115714 -0.43400832\n",
      "  0.96649051  0.8913696   1.04460251 -1.13133495  1.6513771   1.34569308\n",
      "  0.4543563   0.9585852   1.16195188 -1.53258469]\n",
      "0 1.0828797670063957 frozen\n",
      "1 0.4436115763580485 frozen\n",
      "2 1.187170333397907 frozen\n",
      "3 -0.656406613128373 frozen\n",
      "4 1.3111571404683648 frozen\n",
      "5 -0.4340083210655177 frozen\n",
      "6 0.9664905129613701 info\n",
      "7 0.8913695984802854 info\n",
      "8 1.0446025135135732 frozen\n",
      "9 -1.1313349457543898 frozen\n",
      "10 1.651377099251993 info\n",
      "11 1.3456930751870964 info\n",
      "12 0.45435629820915135 info\n",
      "13 0.9585851977451075 info\n",
      "14 1.1619518841573024 info\n",
      "15 -1.5325846861324894 info\n"
     ]
    }
   ],
   "execution_count": 3
  },
  {
   "metadata": {},
   "cell_type": "markdown",
   "source": "Для начала убедимся, что без ошибок наш код раскодируется правильно",
   "id": "32a931cef4c8e3d3"
  },
  {
   "metadata": {
    "ExecuteTime": {
     "end_time": "2025-06-09T08:33:24.544707Z",
     "start_time": "2025-06-09T08:33:24.532508Z"
    }
   },
   "cell_type": "code",
   "source": [
    "res = scl.decode(awgn_encoded_vec)\n",
    "scl.print_decoded_results_table(*res)"
   ],
   "id": "f117eeece6238eb8",
   "outputs": [
    {
     "name": "stdout",
     "output_type": "stream",
     "text": [
      "метрика пути       | код с замороженными битами | код     \n",
      "----------------------------------------------------------\n",
      "0                  | 0000001100111111           | 11111111\n",
      "2.4253961090322247 | 0000000000111111           | 00111111\n",
      "2.9675400409230637 | 0000001100110011           | 11110011\n",
      "3.3946932071260947 | 0000001100000011           | 11000011\n"
     ]
    }
   ],
   "execution_count": 4
  },
  {
   "metadata": {},
   "cell_type": "markdown",
   "source": [
    "Действительно, правильный вариант даже имеет метрику пути в 0\n",
    "\n",
    "Случай с двумя ошибками (одна на замороженной позиции, другая на информационной)"
   ],
   "id": "26ff1e05331bed4c"
  },
  {
   "metadata": {
    "ExecuteTime": {
     "end_time": "2025-06-09T08:33:24.634127Z",
     "start_time": "2025-06-09T08:33:24.621218Z"
    }
   },
   "cell_type": "code",
   "source": [
    "vec_2_mistakes = deepcopy(awgn_encoded_vec)\n",
    "vec_2_mistakes[1] -= 1\n",
    "vec_2_mistakes[7] -= 1\n",
    "\n",
    "res_2_mistakes = scl.decode(vec_2_mistakes)\n",
    "scl.print_decoded_results_table(*res_2_mistakes)"
   ],
   "id": "e459128c5facb87a",
   "outputs": [
    {
     "name": "stdout",
     "output_type": "stream",
     "text": [
      "метрика пути       | код с замороженными битами | код     \n",
      "----------------------------------------------------------\n",
      "0.6650188251616661 | 0000001100111111           | 11111111\n",
      "1.0904149341938907 | 0000000000111111           | 00111111\n",
      "2.304278272932204  | 0000000000000011           | 00000011\n",
      "2.6325588660847297 | 0000001100110011           | 11110011\n"
     ]
    }
   ],
   "execution_count": 5
  },
  {
   "metadata": {},
   "cell_type": "markdown",
   "source": [
    "Верный код снова имеет лучшую метрику пути!\n",
    "\n",
    "Рассмотрим теперь случай с тремя ошибками, и чтобы уменьшить эффект снежного кома, добавим ошибки на более поздние позиции"
   ],
   "id": "ac07d2343e0d00b8"
  },
  {
   "metadata": {
    "ExecuteTime": {
     "end_time": "2025-06-09T08:33:24.675794Z",
     "start_time": "2025-06-09T08:33:24.658677Z"
    }
   },
   "cell_type": "code",
   "source": [
    "vec_3_mistakes = deepcopy(awgn_encoded_vec)\n",
    "vec_3_mistakes[6] -= 1.2\n",
    "vec_3_mistakes[9] += 1.3\n",
    "vec_3_mistakes[12] -= 1\n",
    "\n",
    "res_3_mistakes = scl.decode(vec_3_mistakes)\n",
    "scl.print_decoded_results_table(*res_3_mistakes)"
   ],
   "id": "d77f7b68900f6a6",
   "outputs": [
    {
     "name": "stdout",
     "output_type": "stream",
     "text": [
      "метрика пути       | код с замороженными битами | код     \n",
      "----------------------------------------------------------\n",
      "0.9478182430750888 | 0000001100111111           | 11111111\n",
      "2.4004379011570904 | 0000000100110111           | 01110111\n",
      "2.615358283998152  | 0000001100110011           | 11110011\n",
      "2.6417740788712774 | 0000001100011101           | 11011101\n"
     ]
    }
   ],
   "execution_count": 6
  },
  {
   "metadata": {},
   "cell_type": "markdown",
   "source": "Снова лучший показатель! На 4 ошибках затронем информационные биты пораньше, чтобы увеличить эффект от ошибок",
   "id": "35d89ed367e27431"
  },
  {
   "metadata": {
    "ExecuteTime": {
     "end_time": "2025-06-09T08:33:28.294597Z",
     "start_time": "2025-06-09T08:33:28.275348Z"
    }
   },
   "cell_type": "code",
   "source": [
    "vec_4_mistakes = deepcopy(awgn_encoded_vec)\n",
    "vec_4_mistakes[1] -= 1.5\n",
    "vec_4_mistakes[6] -= 1.5\n",
    "vec_4_mistakes[7] -= 1.5\n",
    "vec_4_mistakes[10] -= 2\n",
    "\n",
    "res_4_mistakes = scl.decode(vec_4_mistakes)\n",
    "scl.print_decoded_results_table(*res_4_mistakes)"
   ],
   "id": "e522c58a21fb867c",
   "outputs": [
    {
     "name": "stdout",
     "output_type": "stream",
     "text": [
      "метрика пути       | код с замороженными битами | код     \n",
      "----------------------------------------------------------\n",
      "1.9725473219805276 | 0000000000111111           | 00111111\n",
      "2.547151212948303  | 0000001100111111           | 11111111\n",
      "2.627650999409438  | 0000001000010111           | 10010111\n",
      "3.186410660718841  | 0000000000000011           | 00000011\n"
     ]
    }
   ],
   "execution_count": 7
  },
  {
   "metadata": {},
   "cell_type": "markdown",
   "source": "Правильный код оказался вторым в подборке! С учётом того, что ошибок мы накидали много и достаточно сильных, это всё ещё очень крутой результат",
   "id": "b76e5e4a8faf8841"
  }
 ],
 "metadata": {
  "kernelspec": {
   "display_name": "Python 3",
   "language": "python",
   "name": "python3"
  },
  "language_info": {
   "codemirror_mode": {
    "name": "ipython",
    "version": 2
   },
   "file_extension": ".py",
   "mimetype": "text/x-python",
   "name": "python",
   "nbconvert_exporter": "python",
   "pygments_lexer": "ipython2",
   "version": "2.7.6"
  }
 },
 "nbformat": 4,
 "nbformat_minor": 5
}
